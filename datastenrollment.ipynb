{
 "cells": [
  {
   "cell_type": "markdown",
   "metadata": {},
   "source": [
    "Problem statement: Is Medi-Cal serving the population in an effective means? We will be analising the population of California that is enrolled in their Medicaid state plan. What part of the population by county is enrolled, underserved and the demographics of those people."
   ]
  },
  {
   "cell_type": "code",
   "execution_count": 2,
   "metadata": {},
   "outputs": [],
   "source": [
    "import pandas as pd\n",
    "import numpy as np"
   ]
  },
  {
   "cell_type": "markdown",
   "metadata": {},
   "source": [
    "First, we will be looking at the Medi-Cal Data of enrollments by county and the percentage of the enrollees per county. As well as what plans the majority of enrollees are under."
   ]
  },
  {
   "cell_type": "code",
   "execution_count": 3,
   "metadata": {},
   "outputs": [],
   "source": [
    "CAManagedCareEnrollment2007to2022=pd.read_csv('/Users/travis/Desktop/projects/open-data-portal-managed-care-enrollment-count-july-2022.csv')"
   ]
  },
  {
   "cell_type": "code",
   "execution_count": 4,
   "metadata": {},
   "outputs": [
    {
     "name": "stdout",
     "output_type": "stream",
     "text": [
      "<class 'pandas.core.frame.DataFrame'>\n",
      "RangeIndex: 22679 entries, 0 to 22678\n",
      "Data columns (total 7 columns):\n",
      " #   Column                                     Non-Null Count  Dtype  \n",
      "---  ------                                     --------------  -----  \n",
      " 0   Enrollment Month                           22679 non-null  object \n",
      " 1   Plan Type                                  22679 non-null  object \n",
      " 2   County                                     22679 non-null  object \n",
      " 3   Plan Name                                  22679 non-null  object \n",
      " 4   Count of Enrollees                         22399 non-null  float64\n",
      " 5   Count of Enrollees Annotation Code         22679 non-null  object \n",
      " 6   Count of Enrollees Annotation Description  22679 non-null  object \n",
      "dtypes: float64(1), object(6)\n",
      "memory usage: 1.2+ MB\n"
     ]
    },
    {
     "data": {
      "text/html": [
       "<div>\n",
       "<style scoped>\n",
       "    .dataframe tbody tr th:only-of-type {\n",
       "        vertical-align: middle;\n",
       "    }\n",
       "\n",
       "    .dataframe tbody tr th {\n",
       "        vertical-align: top;\n",
       "    }\n",
       "\n",
       "    .dataframe thead th {\n",
       "        text-align: right;\n",
       "    }\n",
       "</style>\n",
       "<table border=\"1\" class=\"dataframe\">\n",
       "  <thead>\n",
       "    <tr style=\"text-align: right;\">\n",
       "      <th></th>\n",
       "      <th>Enrollment Month</th>\n",
       "      <th>Plan Type</th>\n",
       "      <th>County</th>\n",
       "      <th>Plan Name</th>\n",
       "      <th>Count of Enrollees</th>\n",
       "      <th>Count of Enrollees Annotation Code</th>\n",
       "      <th>Count of Enrollees Annotation Description</th>\n",
       "    </tr>\n",
       "  </thead>\n",
       "  <tbody>\n",
       "    <tr>\n",
       "      <th>22674</th>\n",
       "      <td>2022-07</td>\n",
       "      <td>Special Project</td>\n",
       "      <td>San Joaquin</td>\n",
       "      <td>InnovAge PACE/San Joaquin</td>\n",
       "      <td>NaN</td>\n",
       "      <td>1</td>\n",
       "      <td>Cell suppressed for small numbers</td>\n",
       "    </tr>\n",
       "    <tr>\n",
       "      <th>22675</th>\n",
       "      <td>2022-07</td>\n",
       "      <td>Special Project</td>\n",
       "      <td>Stanislaus</td>\n",
       "      <td>Central PACE Stanislaus</td>\n",
       "      <td>167.0</td>\n",
       "      <td>None</td>\n",
       "      <td>None</td>\n",
       "    </tr>\n",
       "    <tr>\n",
       "      <th>22676</th>\n",
       "      <td>2022-07</td>\n",
       "      <td>Special Project</td>\n",
       "      <td>Sutter</td>\n",
       "      <td>InnovAge PACE/Sutter</td>\n",
       "      <td>NaN</td>\n",
       "      <td>1</td>\n",
       "      <td>Cell suppressed for small numbers</td>\n",
       "    </tr>\n",
       "    <tr>\n",
       "      <th>22677</th>\n",
       "      <td>2022-07</td>\n",
       "      <td>Special Project</td>\n",
       "      <td>Tulare</td>\n",
       "      <td>Sequioa PACE Tulare</td>\n",
       "      <td>11.0</td>\n",
       "      <td>None</td>\n",
       "      <td>None</td>\n",
       "    </tr>\n",
       "    <tr>\n",
       "      <th>22678</th>\n",
       "      <td>2022-07</td>\n",
       "      <td>Special Project</td>\n",
       "      <td>Yuba</td>\n",
       "      <td>InnovAge PACE/Yuba</td>\n",
       "      <td>NaN</td>\n",
       "      <td>1</td>\n",
       "      <td>Cell suppressed for small numbers</td>\n",
       "    </tr>\n",
       "  </tbody>\n",
       "</table>\n",
       "</div>"
      ],
      "text/plain": [
       "      Enrollment Month        Plan Type       County  \\\n",
       "22674          2022-07  Special Project  San Joaquin   \n",
       "22675          2022-07  Special Project   Stanislaus   \n",
       "22676          2022-07  Special Project       Sutter   \n",
       "22677          2022-07  Special Project       Tulare   \n",
       "22678          2022-07  Special Project         Yuba   \n",
       "\n",
       "                       Plan Name  Count of Enrollees  \\\n",
       "22674  InnovAge PACE/San Joaquin                 NaN   \n",
       "22675    Central PACE Stanislaus               167.0   \n",
       "22676       InnovAge PACE/Sutter                 NaN   \n",
       "22677        Sequioa PACE Tulare                11.0   \n",
       "22678         InnovAge PACE/Yuba                 NaN   \n",
       "\n",
       "      Count of Enrollees Annotation Code  \\\n",
       "22674                                  1   \n",
       "22675                               None   \n",
       "22676                                  1   \n",
       "22677                               None   \n",
       "22678                                  1   \n",
       "\n",
       "      Count of Enrollees Annotation Description  \n",
       "22674         Cell suppressed for small numbers  \n",
       "22675                                      None  \n",
       "22676         Cell suppressed for small numbers  \n",
       "22677                                      None  \n",
       "22678         Cell suppressed for small numbers  "
      ]
     },
     "execution_count": 4,
     "metadata": {},
     "output_type": "execute_result"
    }
   ],
   "source": [
    "CAManagedCareEnrollment2007to2022.info()\n",
    "CAManagedCareEnrollment2007to2022.head()\n",
    "CAManagedCareEnrollment2007to2022.tail()"
   ]
  },
  {
   "cell_type": "markdown",
   "metadata": {},
   "source": [
    "Lets only use the decade from 2010 to 2020 and we'll call the dataset we'll be working with CAenrollment_decade10"
   ]
  },
  {
   "cell_type": "code",
   "execution_count": 5,
   "metadata": {},
   "outputs": [
    {
     "name": "stdout",
     "output_type": "stream",
     "text": [
      "      Enrollment Month        Plan Type           County  \\\n",
      "2834           2010-01             COHS           Merced   \n",
      "2835           2010-01             COHS         Monterey   \n",
      "2836           2010-01             COHS             Napa   \n",
      "2837           2010-01             COHS           Orange   \n",
      "2838           2010-01             COHS  San Luis Obispo   \n",
      "...                ...              ...              ...   \n",
      "19424          2020-12  Special Project       Sacramento   \n",
      "19425          2020-12  Special Project       San Diego    \n",
      "19426          2020-12  Special Project    San Francisco   \n",
      "19427          2020-12  Special Project       Stanislaus   \n",
      "19428          2020-12  Special Project           Tulare   \n",
      "\n",
      "                                             Plan Name  Count of Enrollees  \\\n",
      "2834     Central California Alliance for Health Merced             69980.0   \n",
      "2835   Central California Alliance for Health/Monterey             68498.0   \n",
      "2836                         Partnership HP of CA/Napa             13210.0   \n",
      "2837                                CalOPTIMA / Orange            349200.0   \n",
      "2838       Santa Barbara Hlth Authrty, San Luis Obispo             27659.0   \n",
      "...                                                ...                 ...   \n",
      "19424                              InnovAge/Sacramento                90.0   \n",
      "19425                    Rady Childrens Hosp/San Diego               372.0   \n",
      "19426                           Family Mosaic Prj / SF                 NaN   \n",
      "19427                          Central PACE Stanislaus                40.0   \n",
      "19428                              Sequioa PACE Tulare                 NaN   \n",
      "\n",
      "      Count of Enrollees Annotation Code  \\\n",
      "2834                                None   \n",
      "2835                                None   \n",
      "2836                                None   \n",
      "2837                                None   \n",
      "2838                                None   \n",
      "...                                  ...   \n",
      "19424                               None   \n",
      "19425                               None   \n",
      "19426                                  1   \n",
      "19427                               None   \n",
      "19428                                  1   \n",
      "\n",
      "      Count of Enrollees Annotation Description  \n",
      "2834                                       None  \n",
      "2835                                       None  \n",
      "2836                                       None  \n",
      "2837                                       None  \n",
      "2838                                       None  \n",
      "...                                         ...  \n",
      "19424                                      None  \n",
      "19425                                      None  \n",
      "19426         Cell suppressed for small numbers  \n",
      "19427                                      None  \n",
      "19428         Cell suppressed for small numbers  \n",
      "\n",
      "[16595 rows x 7 columns]\n"
     ]
    }
   ],
   "source": [
    "discard=['2007', '2008', '2009', '2021', '2022']\n",
    "CAenrollment_decade10=CAManagedCareEnrollment2007to2022[~CAManagedCareEnrollment2007to2022['Enrollment Month'].str.contains('|'.join(discard))]\n",
    "print(CAenrollment_decade10)"
   ]
  },
  {
   "cell_type": "code",
   "execution_count": 6,
   "metadata": {},
   "outputs": [
    {
     "name": "stdout",
     "output_type": "stream",
     "text": [
      "<class 'pandas.core.frame.DataFrame'>\n",
      "Int64Index: 16595 entries, 2834 to 19428\n",
      "Data columns (total 7 columns):\n",
      " #   Column                                     Non-Null Count  Dtype  \n",
      "---  ------                                     --------------  -----  \n",
      " 0   Enrollment Month                           16595 non-null  object \n",
      " 1   Plan Type                                  16595 non-null  object \n",
      " 2   County                                     16595 non-null  object \n",
      " 3   Plan Name                                  16595 non-null  object \n",
      " 4   Count of Enrollees                         16503 non-null  float64\n",
      " 5   Count of Enrollees Annotation Code         16595 non-null  object \n",
      " 6   Count of Enrollees Annotation Description  16595 non-null  object \n",
      "dtypes: float64(1), object(6)\n",
      "memory usage: 1.0+ MB\n"
     ]
    },
    {
     "data": {
      "text/html": [
       "<div>\n",
       "<style scoped>\n",
       "    .dataframe tbody tr th:only-of-type {\n",
       "        vertical-align: middle;\n",
       "    }\n",
       "\n",
       "    .dataframe tbody tr th {\n",
       "        vertical-align: top;\n",
       "    }\n",
       "\n",
       "    .dataframe thead th {\n",
       "        text-align: right;\n",
       "    }\n",
       "</style>\n",
       "<table border=\"1\" class=\"dataframe\">\n",
       "  <thead>\n",
       "    <tr style=\"text-align: right;\">\n",
       "      <th></th>\n",
       "      <th>Enrollment Month</th>\n",
       "      <th>Plan Type</th>\n",
       "      <th>County</th>\n",
       "      <th>Plan Name</th>\n",
       "      <th>Count of Enrollees</th>\n",
       "      <th>Count of Enrollees Annotation Code</th>\n",
       "      <th>Count of Enrollees Annotation Description</th>\n",
       "    </tr>\n",
       "  </thead>\n",
       "  <tbody>\n",
       "    <tr>\n",
       "      <th>19424</th>\n",
       "      <td>2020-12</td>\n",
       "      <td>Special Project</td>\n",
       "      <td>Sacramento</td>\n",
       "      <td>InnovAge/Sacramento</td>\n",
       "      <td>90.0</td>\n",
       "      <td>None</td>\n",
       "      <td>None</td>\n",
       "    </tr>\n",
       "    <tr>\n",
       "      <th>19425</th>\n",
       "      <td>2020-12</td>\n",
       "      <td>Special Project</td>\n",
       "      <td>San Diego</td>\n",
       "      <td>Rady Childrens Hosp/San Diego</td>\n",
       "      <td>372.0</td>\n",
       "      <td>None</td>\n",
       "      <td>None</td>\n",
       "    </tr>\n",
       "    <tr>\n",
       "      <th>19426</th>\n",
       "      <td>2020-12</td>\n",
       "      <td>Special Project</td>\n",
       "      <td>San Francisco</td>\n",
       "      <td>Family Mosaic Prj / SF</td>\n",
       "      <td>NaN</td>\n",
       "      <td>1</td>\n",
       "      <td>Cell suppressed for small numbers</td>\n",
       "    </tr>\n",
       "    <tr>\n",
       "      <th>19427</th>\n",
       "      <td>2020-12</td>\n",
       "      <td>Special Project</td>\n",
       "      <td>Stanislaus</td>\n",
       "      <td>Central PACE Stanislaus</td>\n",
       "      <td>40.0</td>\n",
       "      <td>None</td>\n",
       "      <td>None</td>\n",
       "    </tr>\n",
       "    <tr>\n",
       "      <th>19428</th>\n",
       "      <td>2020-12</td>\n",
       "      <td>Special Project</td>\n",
       "      <td>Tulare</td>\n",
       "      <td>Sequioa PACE Tulare</td>\n",
       "      <td>NaN</td>\n",
       "      <td>1</td>\n",
       "      <td>Cell suppressed for small numbers</td>\n",
       "    </tr>\n",
       "  </tbody>\n",
       "</table>\n",
       "</div>"
      ],
      "text/plain": [
       "      Enrollment Month        Plan Type         County  \\\n",
       "19424          2020-12  Special Project     Sacramento   \n",
       "19425          2020-12  Special Project     San Diego    \n",
       "19426          2020-12  Special Project  San Francisco   \n",
       "19427          2020-12  Special Project     Stanislaus   \n",
       "19428          2020-12  Special Project         Tulare   \n",
       "\n",
       "                           Plan Name  Count of Enrollees  \\\n",
       "19424            InnovAge/Sacramento                90.0   \n",
       "19425  Rady Childrens Hosp/San Diego               372.0   \n",
       "19426         Family Mosaic Prj / SF                 NaN   \n",
       "19427        Central PACE Stanislaus                40.0   \n",
       "19428            Sequioa PACE Tulare                 NaN   \n",
       "\n",
       "      Count of Enrollees Annotation Code  \\\n",
       "19424                               None   \n",
       "19425                               None   \n",
       "19426                                  1   \n",
       "19427                               None   \n",
       "19428                                  1   \n",
       "\n",
       "      Count of Enrollees Annotation Description  \n",
       "19424                                      None  \n",
       "19425                                      None  \n",
       "19426         Cell suppressed for small numbers  \n",
       "19427                                      None  \n",
       "19428         Cell suppressed for small numbers  "
      ]
     },
     "execution_count": 6,
     "metadata": {},
     "output_type": "execute_result"
    }
   ],
   "source": [
    "CAenrollment_decade10.info()\n",
    "CAenrollment_decade10.head()\n",
    "CAenrollment_decade10.tail()"
   ]
  },
  {
   "cell_type": "code",
   "execution_count": 7,
   "metadata": {},
   "outputs": [
    {
     "name": "stdout",
     "output_type": "stream",
     "text": [
      "16\n"
     ]
    }
   ],
   "source": [
    "print(CAenrollment_decade10['Plan Type'].nunique())"
   ]
  },
  {
   "cell_type": "code",
   "execution_count": 8,
   "metadata": {},
   "outputs": [
    {
     "data": {
      "text/html": [
       "<div>\n",
       "<style scoped>\n",
       "    .dataframe tbody tr th:only-of-type {\n",
       "        vertical-align: middle;\n",
       "    }\n",
       "\n",
       "    .dataframe tbody tr th {\n",
       "        vertical-align: top;\n",
       "    }\n",
       "\n",
       "    .dataframe thead th {\n",
       "        text-align: right;\n",
       "    }\n",
       "</style>\n",
       "<table border=\"1\" class=\"dataframe\">\n",
       "  <thead>\n",
       "    <tr style=\"text-align: right;\">\n",
       "      <th></th>\n",
       "      <th>Enrollment Month</th>\n",
       "      <th>Plan Type</th>\n",
       "      <th>County</th>\n",
       "      <th>Plan Name</th>\n",
       "      <th>Count of Enrollees</th>\n",
       "      <th>Count of Enrollees Annotation Code</th>\n",
       "      <th>Count of Enrollees Annotation Description</th>\n",
       "    </tr>\n",
       "  </thead>\n",
       "  <tbody>\n",
       "    <tr>\n",
       "      <th>2834</th>\n",
       "      <td>False</td>\n",
       "      <td>False</td>\n",
       "      <td>False</td>\n",
       "      <td>False</td>\n",
       "      <td>False</td>\n",
       "      <td>False</td>\n",
       "      <td>False</td>\n",
       "    </tr>\n",
       "    <tr>\n",
       "      <th>2835</th>\n",
       "      <td>False</td>\n",
       "      <td>False</td>\n",
       "      <td>False</td>\n",
       "      <td>False</td>\n",
       "      <td>False</td>\n",
       "      <td>False</td>\n",
       "      <td>False</td>\n",
       "    </tr>\n",
       "    <tr>\n",
       "      <th>2836</th>\n",
       "      <td>False</td>\n",
       "      <td>False</td>\n",
       "      <td>False</td>\n",
       "      <td>False</td>\n",
       "      <td>False</td>\n",
       "      <td>False</td>\n",
       "      <td>False</td>\n",
       "    </tr>\n",
       "    <tr>\n",
       "      <th>2837</th>\n",
       "      <td>False</td>\n",
       "      <td>False</td>\n",
       "      <td>False</td>\n",
       "      <td>False</td>\n",
       "      <td>False</td>\n",
       "      <td>False</td>\n",
       "      <td>False</td>\n",
       "    </tr>\n",
       "    <tr>\n",
       "      <th>2838</th>\n",
       "      <td>False</td>\n",
       "      <td>False</td>\n",
       "      <td>False</td>\n",
       "      <td>False</td>\n",
       "      <td>False</td>\n",
       "      <td>False</td>\n",
       "      <td>False</td>\n",
       "    </tr>\n",
       "    <tr>\n",
       "      <th>...</th>\n",
       "      <td>...</td>\n",
       "      <td>...</td>\n",
       "      <td>...</td>\n",
       "      <td>...</td>\n",
       "      <td>...</td>\n",
       "      <td>...</td>\n",
       "      <td>...</td>\n",
       "    </tr>\n",
       "    <tr>\n",
       "      <th>19424</th>\n",
       "      <td>False</td>\n",
       "      <td>False</td>\n",
       "      <td>False</td>\n",
       "      <td>False</td>\n",
       "      <td>False</td>\n",
       "      <td>False</td>\n",
       "      <td>False</td>\n",
       "    </tr>\n",
       "    <tr>\n",
       "      <th>19425</th>\n",
       "      <td>False</td>\n",
       "      <td>False</td>\n",
       "      <td>False</td>\n",
       "      <td>False</td>\n",
       "      <td>False</td>\n",
       "      <td>False</td>\n",
       "      <td>False</td>\n",
       "    </tr>\n",
       "    <tr>\n",
       "      <th>19426</th>\n",
       "      <td>False</td>\n",
       "      <td>False</td>\n",
       "      <td>False</td>\n",
       "      <td>False</td>\n",
       "      <td>True</td>\n",
       "      <td>False</td>\n",
       "      <td>False</td>\n",
       "    </tr>\n",
       "    <tr>\n",
       "      <th>19427</th>\n",
       "      <td>False</td>\n",
       "      <td>False</td>\n",
       "      <td>False</td>\n",
       "      <td>False</td>\n",
       "      <td>False</td>\n",
       "      <td>False</td>\n",
       "      <td>False</td>\n",
       "    </tr>\n",
       "    <tr>\n",
       "      <th>19428</th>\n",
       "      <td>False</td>\n",
       "      <td>False</td>\n",
       "      <td>False</td>\n",
       "      <td>False</td>\n",
       "      <td>True</td>\n",
       "      <td>False</td>\n",
       "      <td>False</td>\n",
       "    </tr>\n",
       "  </tbody>\n",
       "</table>\n",
       "<p>16595 rows × 7 columns</p>\n",
       "</div>"
      ],
      "text/plain": [
       "       Enrollment Month  Plan Type  County  Plan Name  Count of Enrollees  \\\n",
       "2834              False      False   False      False               False   \n",
       "2835              False      False   False      False               False   \n",
       "2836              False      False   False      False               False   \n",
       "2837              False      False   False      False               False   \n",
       "2838              False      False   False      False               False   \n",
       "...                 ...        ...     ...        ...                 ...   \n",
       "19424             False      False   False      False               False   \n",
       "19425             False      False   False      False               False   \n",
       "19426             False      False   False      False                True   \n",
       "19427             False      False   False      False               False   \n",
       "19428             False      False   False      False                True   \n",
       "\n",
       "       Count of Enrollees Annotation Code  \\\n",
       "2834                                False   \n",
       "2835                                False   \n",
       "2836                                False   \n",
       "2837                                False   \n",
       "2838                                False   \n",
       "...                                   ...   \n",
       "19424                               False   \n",
       "19425                               False   \n",
       "19426                               False   \n",
       "19427                               False   \n",
       "19428                               False   \n",
       "\n",
       "       Count of Enrollees Annotation Description  \n",
       "2834                                       False  \n",
       "2835                                       False  \n",
       "2836                                       False  \n",
       "2837                                       False  \n",
       "2838                                       False  \n",
       "...                                          ...  \n",
       "19424                                      False  \n",
       "19425                                      False  \n",
       "19426                                      False  \n",
       "19427                                      False  \n",
       "19428                                      False  \n",
       "\n",
       "[16595 rows x 7 columns]"
      ]
     },
     "execution_count": 8,
     "metadata": {},
     "output_type": "execute_result"
    }
   ],
   "source": [
    "CAenrollment_decade10.isnull()"
   ]
  },
  {
   "cell_type": "code",
   "execution_count": 9,
   "metadata": {},
   "outputs": [
    {
     "data": {
      "text/plain": [
       "Enrollment Month                              0\n",
       "Plan Type                                     0\n",
       "County                                        0\n",
       "Plan Name                                     0\n",
       "Count of Enrollees                           92\n",
       "Count of Enrollees Annotation Code            0\n",
       "Count of Enrollees Annotation Description     0\n",
       "dtype: int64"
      ]
     },
     "execution_count": 9,
     "metadata": {},
     "output_type": "execute_result"
    }
   ],
   "source": [
    "CAenrollment_decade10.isnull().sum()"
   ]
  },
  {
   "cell_type": "markdown",
   "metadata": {},
   "source": [
    "It seems the only column with Null data is Count of Enrollees. Lets deterrmine how much of the Count of Enrollees is Null."
   ]
  },
  {
   "cell_type": "code",
   "execution_count": 10,
   "metadata": {},
   "outputs": [
    {
     "name": "stdout",
     "output_type": "stream",
     "text": [
      "1178790135.0\n"
     ]
    }
   ],
   "source": [
    "count_of_enrollees=CAenrollment_decade10['Count of Enrollees'].sum()\n",
    "print(count_of_enrollees)"
   ]
  },
  {
   "cell_type": "code",
   "execution_count": 11,
   "metadata": {},
   "outputs": [
    {
     "name": "stdout",
     "output_type": "stream",
     "text": [
      "92\n"
     ]
    }
   ],
   "source": [
    "null_count_of_enrollees=CAenrollment_decade10['Count of Enrollees'].isnull().sum()\n",
    "print(null_count_of_enrollees)"
   ]
  },
  {
   "cell_type": "code",
   "execution_count": 12,
   "metadata": {},
   "outputs": [
    {
     "name": "stdout",
     "output_type": "stream",
     "text": [
      "0.0%\n"
     ]
    }
   ],
   "source": [
    "null_percentage=null_count_of_enrollees/count_of_enrollees\n",
    "print('{:.01%}'.format(null_percentage))"
   ]
  },
  {
   "cell_type": "markdown",
   "metadata": {},
   "source": [
    "Since the percentage of null values in the Count of Enrolless is less than 0.0%, we wont drop the column from the dataset. Instead we'll go ahead and input the missing data as 'No Enrollees'."
   ]
  },
  {
   "cell_type": "code",
   "execution_count": 13,
   "metadata": {},
   "outputs": [
    {
     "name": "stderr",
     "output_type": "stream",
     "text": [
      "/var/folders/3k/3l_lpzgd5n1gwqlldpy8srg00000gp/T/ipykernel_75861/1078885126.py:1: SettingWithCopyWarning: \n",
      "A value is trying to be set on a copy of a slice from a DataFrame.\n",
      "Try using .loc[row_indexer,col_indexer] = value instead\n",
      "\n",
      "See the caveats in the documentation: https://pandas.pydata.org/pandas-docs/stable/user_guide/indexing.html#returning-a-view-versus-a-copy\n",
      "  CAenrollment_decade10['Count of Enrollees']=CAenrollment_decade10['Count of Enrollees'].fillna(0)\n"
     ]
    }
   ],
   "source": [
    "CAenrollment_decade10['Count of Enrollees']=CAenrollment_decade10['Count of Enrollees'].fillna(0)"
   ]
  },
  {
   "cell_type": "code",
   "execution_count": 14,
   "metadata": {},
   "outputs": [
    {
     "data": {
      "text/plain": [
       "Enrollment Month                             0\n",
       "Plan Type                                    0\n",
       "County                                       0\n",
       "Plan Name                                    0\n",
       "Count of Enrollees                           0\n",
       "Count of Enrollees Annotation Code           0\n",
       "Count of Enrollees Annotation Description    0\n",
       "dtype: int64"
      ]
     },
     "execution_count": 14,
     "metadata": {},
     "output_type": "execute_result"
    }
   ],
   "source": [
    "CAenrollment_decade10.isnull().sum()"
   ]
  },
  {
   "cell_type": "markdown",
   "metadata": {},
   "source": [
    "As you can see we no longer have any null vallues.\n",
    "The next step in our data cleaning process is to check for Duplicate data. Missing data can cause issues just like Null values can."
   ]
  },
  {
   "cell_type": "code",
   "execution_count": 15,
   "metadata": {},
   "outputs": [
    {
     "data": {
      "text/plain": [
       "2834     False\n",
       "2835     False\n",
       "2836     False\n",
       "2837     False\n",
       "2838     False\n",
       "         ...  \n",
       "19424    False\n",
       "19425    False\n",
       "19426    False\n",
       "19427    False\n",
       "19428    False\n",
       "Length: 16595, dtype: bool"
      ]
     },
     "execution_count": 15,
     "metadata": {},
     "output_type": "execute_result"
    }
   ],
   "source": [
    "CAenrollment_decade10.duplicated()"
   ]
  },
  {
   "cell_type": "markdown",
   "metadata": {},
   "source": [
    "Upon inpection we have no duplicate data. \n",
    "\n",
    "Lets go ahead and analyze our data to see what counties had the most enrollments and which counties had the least amount of enrollment.\n",
    "We'll use unique_county as the name for the amount of the counties in California "
   ]
  },
  {
   "cell_type": "code",
   "execution_count": 16,
   "metadata": {},
   "outputs": [
    {
     "name": "stdout",
     "output_type": "stream",
     "text": [
      "59\n"
     ]
    }
   ],
   "source": [
    "unique_county=CAenrollment_decade10['County'].nunique()\n",
    "print(unique_county)"
   ]
  },
  {
   "cell_type": "markdown",
   "metadata": {},
   "source": [
    "We're going to use county_count as the name for the counties and their total amount of individuals that have enrolled into Medicaid California through the county the live in. "
   ]
  },
  {
   "cell_type": "code",
   "execution_count": 17,
   "metadata": {},
   "outputs": [
    {
     "name": "stdout",
     "output_type": "stream",
     "text": [
      "County\n",
      "Alameda             33332170.0\n",
      "Alpine                 19885.0\n",
      "Amador                513475.0\n",
      "Butte                5213590.0\n",
      "Calaveras             768490.0\n",
      "Colusa                595340.0\n",
      "Contra Costa        20711618.0\n",
      "Del Norte             956913.0\n",
      "El Dorado            2363769.0\n",
      "Fresno              43195670.0\n",
      "Glenn                 797263.0\n",
      "Humboldt             4273393.0\n",
      "Imperial             6104595.0\n",
      "Inyo                  322761.0\n",
      "Kern                33096728.0\n",
      "Kings                4681863.0\n",
      "Lake                 2487407.0\n",
      "Lassen                610347.0\n",
      "Los Angeles        365255701.0\n",
      "Madera               5573837.0\n",
      "Marin                3611613.0\n",
      "Mariposa              315444.0\n",
      "Mendocino            3639187.0\n",
      "Merced              13720164.0\n",
      "Modoc                 263161.0\n",
      "Mono                  208701.0\n",
      "Monterey            16122993.0\n",
      "Napa                 3005314.0\n",
      "Nevada               1611677.0\n",
      "Orange              81566635.0\n",
      "Placer               3740244.0\n",
      "Plumas                386074.0\n",
      "Riverside           68899355.0\n",
      "Sacramento          90658946.0\n",
      "San Benito            661963.0\n",
      "San Bernardino      71539277.0\n",
      "San Diego              32319.0\n",
      "San Diego           69720347.0\n",
      "San Francisco       15507533.0\n",
      "San Joaquin         25068512.0\n",
      "San Luis Obispo      5791988.0\n",
      "San Mateo           12757298.0\n",
      "Santa Barbara       13102817.0\n",
      "Santa Clara         34268255.0\n",
      "Santa Cruz           7253722.0\n",
      "Shasta               5099392.0\n",
      "Sierra                 47647.0\n",
      "Siskiyou             1434257.0\n",
      "Solano              11959590.0\n",
      "Sonoma              11536744.0\n",
      "Stanislaus          19527302.0\n",
      "Sutter               2601974.0\n",
      "Tehama               1661384.0\n",
      "Trinity               371756.0\n",
      "Tulare              22260349.0\n",
      "Tuolumne              877892.0\n",
      "Ventura             19482352.0\n",
      "Yolo                 5571997.0\n",
      "Yuba                 2029145.0\n",
      "Name: Count of Enrollees, dtype: float64\n"
     ]
    }
   ],
   "source": [
    "county_count=CAenrollment_decade10.groupby(by=['County'])['Count of Enrollees'].sum()\n",
    "print(county_count)"
   ]
  },
  {
   "cell_type": "code",
   "execution_count": 18,
   "metadata": {},
   "outputs": [
    {
     "name": "stdout",
     "output_type": "stream",
     "text": [
      "Los Angeles\n",
      "365255701.0\n",
      "4681863.0\n"
     ]
    }
   ],
   "source": [
    "print(county_count.idxmax())\n",
    "print(county_count.max())\n",
    "print(county_count.median())"
   ]
  },
  {
   "cell_type": "code",
   "execution_count": 19,
   "metadata": {},
   "outputs": [
    {
     "name": "stdout",
     "output_type": "stream",
     "text": [
      "Alpine\n",
      "19885.0\n",
      "4681863.0\n"
     ]
    }
   ],
   "source": [
    "print(county_count.idxmin())\n",
    "print(county_count.min())\n",
    "print(county_count.median())"
   ]
  },
  {
   "cell_type": "markdown",
   "metadata": {},
   "source": [
    "So we have learned that the county with the most enrollees from 2010 to 2020 is Los Angeles with      365,255,701\n",
    "\n",
    "The county with the least amount of enrollees from 2010 to 2020 is Alpine with 19,885\n",
    "\n",
    "Let's go ahead and determine the percentage of that makes up the Los Angeles enrollees and the Alpine enrollees from the all of the enrollees in California."
   ]
  },
  {
   "cell_type": "code",
   "execution_count": 20,
   "metadata": {},
   "outputs": [
    {
     "name": "stdout",
     "output_type": "stream",
     "text": [
      "1178790135.0\n"
     ]
    }
   ],
   "source": [
    "print(CAenrollment_decade10['Count of Enrollees'].sum())"
   ]
  },
  {
   "cell_type": "markdown",
   "metadata": {},
   "source": [
    "We're going to be using LA as the abrevation for the Los Angeles "
   ]
  },
  {
   "cell_type": "code",
   "execution_count": 21,
   "metadata": {},
   "outputs": [
    {
     "name": "stdout",
     "output_type": "stream",
     "text": [
      "30.98564283454917\n"
     ]
    }
   ],
   "source": [
    "LA=(365255701/CAenrollment_decade10['Count of Enrollees'].sum())*100\n",
    "print(LA)"
   ]
  },
  {
   "cell_type": "markdown",
   "metadata": {},
   "source": [
    "From the calculations we see that Los Angeles, the county with the most enrollees from 2010 to 2020, makes up 31% of the amount of enrollees in california's 59 counties. \n",
    "Now, lets the percent of enrollees in Alpine, the least amount of enrollees from 2010 to 2020.\n",
    "We'll be setting the amount of enrollees in Alpine as AP."
   ]
  },
  {
   "cell_type": "code",
   "execution_count": 22,
   "metadata": {},
   "outputs": [
    {
     "name": "stdout",
     "output_type": "stream",
     "text": [
      "1.6868990848824842e-05\n"
     ]
    }
   ],
   "source": [
    "AP=(19885/CAenrollment_decade10['Count of Enrollees'].sum())\n",
    "print(AP)"
   ]
  },
  {
   "cell_type": "markdown",
   "metadata": {},
   "source": [
    "From the calculations we see that Alpine, the county with the least amount of enrollees from 2010 to 2020, makes up 1.7% of the amount of enrollees in Caliornia's 59 counties.\n",
    "\n",
    "Now since we have decided the percentage of the county with the most enrollees and the county with the least amount of enrollees, lets dig deeper and see how how the two counties differ in the plan types that they both individually enroll in."
   ]
  },
  {
   "cell_type": "code",
   "execution_count": 23,
   "metadata": {},
   "outputs": [
    {
     "name": "stdout",
     "output_type": "stream",
     "text": [
      "County\n",
      "Alameda                           Two-Plan\n",
      "Alpine                            Regional\n",
      "Amador                            Regional\n",
      "Butte                             Regional\n",
      "Calaveras                         Regional\n",
      "Colusa                            Regional\n",
      "Contra Costa                      Two-Plan\n",
      "Del Norte                             COHS\n",
      "El Dorado                  Special Project\n",
      "Fresno                            Two-Plan\n",
      "Glenn                             Regional\n",
      "Humboldt                              PACE\n",
      "Imperial                    Imperial Model\n",
      "Inyo                              Regional\n",
      "Kern                              Two-Plan\n",
      "Kings                             Two-Plan\n",
      "Lake                                  COHS\n",
      "Lassen                                COHS\n",
      "Los Angeles                       Two-Plan\n",
      "Madera                            Two-Plan\n",
      "Marin                  Prepaid Health Plan\n",
      "Mariposa                          Regional\n",
      "Mendocino                             COHS\n",
      "Merced                                COHS\n",
      "Modoc                                 COHS\n",
      "Mono                              Regional\n",
      "Monterey                              COHS\n",
      "Napa                                  COHS\n",
      "Nevada                            Regional\n",
      "Orange                                PACE\n",
      "Placer                     Special Project\n",
      "Plumas                            Regional\n",
      "Riverside                         Two-Plan\n",
      "Sacramento                 Special Project\n",
      "San Benito                San Benito Model\n",
      "San Bernardino                    Two-Plan\n",
      "San Diego          Geographic Managed Care\n",
      "San Diego                  Special Project\n",
      "San Francisco                     Two-Plan\n",
      "San Joaquin                       Two-Plan\n",
      "San Luis Obispo                       COHS\n",
      "San Mateo                  Cal MediConnect\n",
      "Santa Barbara                         COHS\n",
      "Santa Clara                       Two-Plan\n",
      "Santa Cruz                            COHS\n",
      "Shasta                                COHS\n",
      "Sierra                            Regional\n",
      "Siskiyou                              COHS\n",
      "Solano                                COHS\n",
      "Sonoma                                COHS\n",
      "Stanislaus                        Two-Plan\n",
      "Sutter                            Regional\n",
      "Tehama                            Regional\n",
      "Trinity                               COHS\n",
      "Tulare                            Two-Plan\n",
      "Tuolumne                          Regional\n",
      "Ventura                               COHS\n",
      "Yolo                       Special Project\n",
      "Yuba                       Special Project\n",
      "Name: Plan Type, dtype: object\n"
     ]
    }
   ],
   "source": [
    "county_plans=CAenrollment_decade10.groupby(by=['County'])['Plan Type'].max()\n",
    "print(county_plans)"
   ]
  },
  {
   "cell_type": "markdown",
   "metadata": {},
   "source": [
    "What we find here is that the majority of people who enrollee in Los Angeles, choose Two-Plan and the majority of people in Alpine, choose Regional.\n",
    "\n",
    "Now, we can see the county(Los Angeles) with the most enrollees and the county(Alpine) with the least enollees cooraliate to being underrserved and how California as a whole is underserved.\n",
    "\n",
    "We'll be looking at the dataset \"Health Professional Shortage Areas in Califonia\" Primary care dataset from the California Health and Human Services Open Data Portal"
   ]
  },
  {
   "cell_type": "code",
   "execution_count": 24,
   "metadata": {},
   "outputs": [
    {
     "name": "stdout",
     "output_type": "stream",
     "text": [
      "<class 'pandas.core.frame.DataFrame'>\n",
      "RangeIndex: 2329 entries, 0 to 2328\n",
      "Data columns (total 13 columns):\n",
      " #   Column                                Non-Null Count  Dtype \n",
      "---  ------                                --------------  ----- \n",
      " 0   HPSA Discipline Class                 2329 non-null   object\n",
      " 1   HPSA Geography Identification Number  2329 non-null   int64 \n",
      " 2   HPSA Component Type Description       2329 non-null   object\n",
      " 3   HPSA Name                             2329 non-null   object\n",
      " 4   HPSA ID                               2329 non-null   object\n",
      " 5   County Equivalent Name                2329 non-null   object\n",
      " 6   Designation Type                      2329 non-null   object\n",
      " 7   HPSA Population Type                  2329 non-null   object\n",
      " 8   HPSA Status                           2329 non-null   object\n",
      " 9   HPSA Score                            2329 non-null   int64 \n",
      " 10  HPSA Designation Date                 2329 non-null   object\n",
      " 11  HPSA Designation Last Update Date     2329 non-null   object\n",
      " 12  Data Warehouse Record Create Date     2329 non-null   object\n",
      "dtypes: int64(2), object(11)\n",
      "memory usage: 236.7+ KB\n"
     ]
    },
    {
     "data": {
      "text/html": [
       "<div>\n",
       "<style scoped>\n",
       "    .dataframe tbody tr th:only-of-type {\n",
       "        vertical-align: middle;\n",
       "    }\n",
       "\n",
       "    .dataframe tbody tr th {\n",
       "        vertical-align: top;\n",
       "    }\n",
       "\n",
       "    .dataframe thead th {\n",
       "        text-align: right;\n",
       "    }\n",
       "</style>\n",
       "<table border=\"1\" class=\"dataframe\">\n",
       "  <thead>\n",
       "    <tr style=\"text-align: right;\">\n",
       "      <th></th>\n",
       "      <th>HPSA Discipline Class</th>\n",
       "      <th>HPSA Geography Identification Number</th>\n",
       "      <th>HPSA Component Type Description</th>\n",
       "      <th>HPSA Name</th>\n",
       "      <th>HPSA ID</th>\n",
       "      <th>County Equivalent Name</th>\n",
       "      <th>Designation Type</th>\n",
       "      <th>HPSA Population Type</th>\n",
       "      <th>HPSA Status</th>\n",
       "      <th>HPSA Score</th>\n",
       "      <th>HPSA Designation Date</th>\n",
       "      <th>HPSA Designation Last Update Date</th>\n",
       "      <th>Data Warehouse Record Create Date</th>\n",
       "    </tr>\n",
       "  </thead>\n",
       "  <tbody>\n",
       "    <tr>\n",
       "      <th>2324</th>\n",
       "      <td>Primary Care</td>\n",
       "      <td>6115040700</td>\n",
       "      <td>Census Tract</td>\n",
       "      <td>LI/MFW-MSSA 249/Marysville</td>\n",
       "      <td>1062092319</td>\n",
       "      <td>Yuba</td>\n",
       "      <td>HPSA Population</td>\n",
       "      <td>Low Income Migrant Farmworker Population HPSA</td>\n",
       "      <td>Designated</td>\n",
       "      <td>15</td>\n",
       "      <td>11/30/1993</td>\n",
       "      <td>6/30/2017</td>\n",
       "      <td>1/8/2021</td>\n",
       "    </tr>\n",
       "    <tr>\n",
       "      <th>2325</th>\n",
       "      <td>Primary Care</td>\n",
       "      <td>6115040901</td>\n",
       "      <td>Census Tract</td>\n",
       "      <td>LI/MFW-MSSA 249/Marysville</td>\n",
       "      <td>1062092319</td>\n",
       "      <td>Yuba</td>\n",
       "      <td>HPSA Population</td>\n",
       "      <td>Low Income Migrant Farmworker Population HPSA</td>\n",
       "      <td>Designated</td>\n",
       "      <td>15</td>\n",
       "      <td>11/30/1993</td>\n",
       "      <td>6/30/2017</td>\n",
       "      <td>1/8/2021</td>\n",
       "    </tr>\n",
       "    <tr>\n",
       "      <th>2326</th>\n",
       "      <td>Primary Care</td>\n",
       "      <td>6115040902</td>\n",
       "      <td>Census Tract</td>\n",
       "      <td>LI/MFW-MSSA 249/Marysville</td>\n",
       "      <td>1062092319</td>\n",
       "      <td>Yuba</td>\n",
       "      <td>HPSA Population</td>\n",
       "      <td>Low Income Migrant Farmworker Population HPSA</td>\n",
       "      <td>Designated</td>\n",
       "      <td>15</td>\n",
       "      <td>11/30/1993</td>\n",
       "      <td>6/30/2017</td>\n",
       "      <td>1/8/2021</td>\n",
       "    </tr>\n",
       "    <tr>\n",
       "      <th>2327</th>\n",
       "      <td>Primary Care</td>\n",
       "      <td>6115041000</td>\n",
       "      <td>Census Tract</td>\n",
       "      <td>LI/MFW-MSSA 249/Marysville</td>\n",
       "      <td>1062092319</td>\n",
       "      <td>Yuba</td>\n",
       "      <td>HPSA Population</td>\n",
       "      <td>Low Income Migrant Farmworker Population HPSA</td>\n",
       "      <td>Designated</td>\n",
       "      <td>15</td>\n",
       "      <td>11/30/1993</td>\n",
       "      <td>6/30/2017</td>\n",
       "      <td>1/8/2021</td>\n",
       "    </tr>\n",
       "    <tr>\n",
       "      <th>2328</th>\n",
       "      <td>Primary Care</td>\n",
       "      <td>6115041100</td>\n",
       "      <td>Census Tract</td>\n",
       "      <td>MSSA 247/Browns Valley</td>\n",
       "      <td>1066503651</td>\n",
       "      <td>Yuba</td>\n",
       "      <td>Geographic HPSA</td>\n",
       "      <td>Geographic Population</td>\n",
       "      <td>Designated</td>\n",
       "      <td>17</td>\n",
       "      <td>9/30/1998</td>\n",
       "      <td>10/28/2017</td>\n",
       "      <td>1/8/2021</td>\n",
       "    </tr>\n",
       "  </tbody>\n",
       "</table>\n",
       "</div>"
      ],
      "text/plain": [
       "     HPSA Discipline Class  HPSA Geography Identification Number  \\\n",
       "2324          Primary Care                            6115040700   \n",
       "2325          Primary Care                            6115040901   \n",
       "2326          Primary Care                            6115040902   \n",
       "2327          Primary Care                            6115041000   \n",
       "2328          Primary Care                            6115041100   \n",
       "\n",
       "     HPSA Component Type Description                   HPSA Name     HPSA ID  \\\n",
       "2324                    Census Tract  LI/MFW-MSSA 249/Marysville  1062092319   \n",
       "2325                    Census Tract  LI/MFW-MSSA 249/Marysville  1062092319   \n",
       "2326                    Census Tract  LI/MFW-MSSA 249/Marysville  1062092319   \n",
       "2327                    Census Tract  LI/MFW-MSSA 249/Marysville  1062092319   \n",
       "2328                    Census Tract      MSSA 247/Browns Valley  1066503651   \n",
       "\n",
       "     County Equivalent Name Designation Type  \\\n",
       "2324                   Yuba  HPSA Population   \n",
       "2325                   Yuba  HPSA Population   \n",
       "2326                   Yuba  HPSA Population   \n",
       "2327                   Yuba  HPSA Population   \n",
       "2328                   Yuba  Geographic HPSA   \n",
       "\n",
       "                               HPSA Population Type HPSA Status  HPSA Score  \\\n",
       "2324  Low Income Migrant Farmworker Population HPSA  Designated          15   \n",
       "2325  Low Income Migrant Farmworker Population HPSA  Designated          15   \n",
       "2326  Low Income Migrant Farmworker Population HPSA  Designated          15   \n",
       "2327  Low Income Migrant Farmworker Population HPSA  Designated          15   \n",
       "2328                          Geographic Population  Designated          17   \n",
       "\n",
       "     HPSA Designation Date HPSA Designation Last Update Date  \\\n",
       "2324            11/30/1993                         6/30/2017   \n",
       "2325            11/30/1993                         6/30/2017   \n",
       "2326            11/30/1993                         6/30/2017   \n",
       "2327            11/30/1993                         6/30/2017   \n",
       "2328             9/30/1998                        10/28/2017   \n",
       "\n",
       "     Data Warehouse Record Create Date  \n",
       "2324                          1/8/2021  \n",
       "2325                          1/8/2021  \n",
       "2326                          1/8/2021  \n",
       "2327                          1/8/2021  \n",
       "2328                          1/8/2021  "
      ]
     },
     "execution_count": 24,
     "metadata": {},
     "output_type": "execute_result"
    }
   ],
   "source": [
    "hpsa_primarycare=pd.read_csv('hpsa_primarycare.csv')\n",
    "hpsa_primarycare.info()\n",
    "hpsa_primarycare.head()\n",
    "hpsa_primarycare.tail()"
   ]
  },
  {
   "cell_type": "code",
   "execution_count": 25,
   "metadata": {},
   "outputs": [
    {
     "data": {
      "text/plain": [
       "29      1/19/2017\n",
       "27      1/19/2017\n",
       "30      1/19/2017\n",
       "31      1/19/2017\n",
       "32      1/19/2017\n",
       "          ...    \n",
       "1406    9/20/2018\n",
       "1407    9/20/2018\n",
       "1402    9/20/2018\n",
       "1408    9/21/2020\n",
       "1409    9/21/2020\n",
       "Name: HPSA Designation Last Update Date, Length: 2329, dtype: object"
      ]
     },
     "execution_count": 25,
     "metadata": {},
     "output_type": "execute_result"
    }
   ],
   "source": [
    "hpsa_primarycare['HPSA Designation Last Update Date'].sort_values()"
   ]
  },
  {
   "cell_type": "code",
   "execution_count": 26,
   "metadata": {},
   "outputs": [
    {
     "name": "stdout",
     "output_type": "stream",
     "text": [
      "County Equivalent Name\n",
      "Sonoma             7.000000\n",
      "Nevada             7.000000\n",
      "Alameda            8.000000\n",
      "San Benito         8.000000\n",
      "Napa               8.000000\n",
      "Calaveras          8.000000\n",
      "Del Norte          9.000000\n",
      "Amador             9.250000\n",
      "San Diego          9.572816\n",
      "Placer            10.000000\n",
      "Alpine            10.000000\n",
      "Mariposa          10.000000\n",
      "Humboldt          10.333333\n",
      "Butte             10.821429\n",
      "Riverside         10.837209\n",
      "Mendocino         10.941176\n",
      "Colusa            11.000000\n",
      "Merced            11.285714\n",
      "Orange            11.682540\n",
      "Stanislaus        11.806452\n",
      "Siskiyou          12.000000\n",
      "Solano            12.000000\n",
      "Santa Barbara     12.000000\n",
      "Tuolumne          12.090909\n",
      "Plumas            12.200000\n",
      "San Joaquin       12.303571\n",
      "Lake              12.400000\n",
      "Monterey          12.530612\n",
      "Tehama            12.909091\n",
      "Ventura           13.055556\n",
      "Kings             13.259259\n",
      "Sacramento        13.390244\n",
      "Trinity           13.400000\n",
      "Glenn             13.500000\n",
      "Fresno            13.664474\n",
      "Los Angeles       13.964245\n",
      "San Francisco     14.000000\n",
      "El Dorado         14.157895\n",
      "Madera            14.217391\n",
      "Imperial          14.290323\n",
      "Kern              14.752941\n",
      "Santa Cruz        15.000000\n",
      "Shasta            15.000000\n",
      "Modoc             15.000000\n",
      "Yuba              15.153846\n",
      "Tulare            15.282051\n",
      "San Mateo         16.000000\n",
      "Lassen            16.125000\n",
      "San Bernardino    16.543307\n",
      "Inyo              17.000000\n",
      "Name: HPSA Score, dtype: float64\n"
     ]
    }
   ],
   "source": [
    "countyscore=hpsa_primarycare.groupby(by=['County Equivalent Name'])['HPSA Score'].mean().sort_values()\n",
    "print(countyscore)"
   ]
  },
  {
   "cell_type": "code",
   "execution_count": 27,
   "metadata": {},
   "outputs": [
    {
     "name": "stdout",
     "output_type": "stream",
     "text": [
      "13.157578359811078\n"
     ]
    }
   ],
   "source": [
    "print(hpsa_primarycare['HPSA Score'].mean())"
   ]
  },
  {
   "cell_type": "markdown",
   "metadata": {},
   "source": [
    "The HPSA scale ranges from 0 to 26, where the higher the score, the greater the priority. \n",
    "The average score for the state of california is 13.\n",
    "\n",
    "Los Angeles, the county with the most enrollees scores an average of 13.\n",
    "\n",
    "Alpine, the county with the least amount of enrollees scores an average of 10.\n",
    "\n",
    "and we see that the highest score is the county of Inyo, with an average score of 17.\n",
    "\n",
    "Lets got ahead and visualize the averages and the amount of enrollees in the counties."
   ]
  },
  {
   "cell_type": "code",
   "execution_count": 29,
   "metadata": {},
   "outputs": [
    {
     "data": {
      "image/png": "[encoded data removed]",
      "text/plain": [
       "<Figure size 432x288 with 1 Axes>"
      ]
     },
     "metadata": {
      "needs_background": "light"
     },
     "output_type": "display_data"
    }
   ],
   "source": [
    "import matplotlib.pyplot as plt\n",
    "enrollee=[11536744,19885,365255701,322761]\n",
    "score=[7,10,13,17]\n",
    "\n",
    "labels=['Somana','Alpine','Los Angeles','Inyo']\n",
    "y_positions=np.arange(len(labels))  \n",
    "\n",
    "fig,ax=plt.subplots()\n",
    "rects1=ax.barh(y_positions,enrollee,label='Count of Enrollees')\n",
    "rects2=ax.barh(y_positions,score,label='HPSA Score')\n",
    "ax.set_yticks(y_positions,labels)\n",
    "ax.set_xscale('log')\n",
    "ax.legend(loc='upper right')\n",
    "ax.bar_label(rects2,padding=3)\n",
    "plt.title('Medi-Cal County')\n",
    "plt.show()"
   ]
  }
 ],
 "metadata": {
  "kernelspec": {
   "display_name": "Python 3.9.12 ('base')",
   "language": "python",
   "name": "python3"
  },
  "language_info": {
   "codemirror_mode": {
    "name": "ipython",
    "version": 3
   },
   "file_extension": ".py",
   "mimetype": "text/x-python",
   "name": "python",
   "nbconvert_exporter": "python",
   "pygments_lexer": "ipython3",
   "version": "3.9.12"
  },
  "orig_nbformat": 4,
  "vscode": {
   "interpreter": {
    "hash": "0037172f117d17e9bd2d1ad67e34cbc2b847376df27838d426894dbc845829f9"
   }
  }
 },
 "nbformat": 4,
 "nbformat_minor": 2
}
